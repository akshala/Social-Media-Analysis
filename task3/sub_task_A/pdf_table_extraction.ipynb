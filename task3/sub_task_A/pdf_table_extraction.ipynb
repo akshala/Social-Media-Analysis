{
 "cells": [
  {
   "cell_type": "code",
   "execution_count": 55,
   "metadata": {},
   "outputs": [],
   "source": [
    "import tabula\n",
    "import camelot\n",
    "from pymongo import MongoClient \n",
    "import json"
   ]
  },
  {
   "cell_type": "code",
   "execution_count": 15,
   "metadata": {},
   "outputs": [],
   "source": [
    "conn = MongoClient('localhost', 27017)\n",
    "db = conn.pdf_table "
   ]
  },
  {
   "cell_type": "code",
   "execution_count": 71,
   "metadata": {},
   "outputs": [],
   "source": [
    "def pdf_table_reader(file, collection):\n",
    "    tables = tabula.read_pdf(file, pages='all', multiple_tables=True, silent=True)\n",
    "    if len(tables) == 0:\n",
    "        tables = camelot.read_pdf(file, pages='all', multiple_tables=True, silent=True)\n",
    "        for elt in tables:\n",
    "            records = json.loads(elt.df.T.to_json()).values()\n",
    "            collection.insert_many(records)\n",
    "    else:\n",
    "        for elt in tables:\n",
    "            records = json.loads(elt.T.to_json()).values()\n",
    "            collection.insert_many(records)"
   ]
  },
  {
   "cell_type": "code",
   "execution_count": 80,
   "metadata": {},
   "outputs": [
    {
     "name": "stdout",
     "output_type": "stream",
     "text": [
      "{'_id': ObjectId('5feb637a3751063f552791db'), 'Date': 'April 06, 2018', 'Particulars': 'SBICAP Securities Ltd', 'Type of Interactlon': 'One on One'}\n"
     ]
    }
   ],
   "source": [
    "pdf_table_reader('./Rec_Task/Rec_Task/1c1edeee-a13e-4b2e-90be-eb1dd03c3384.pdf', db.first)\n",
    "collection = db.first\n",
    "cursor = collection.find() \n",
    "for record in cursor:\n",
    "    print(record)"
   ]
  },
  {
   "cell_type": "code",
   "execution_count": 81,
   "metadata": {},
   "outputs": [
    {
     "name": "stdout",
     "output_type": "stream",
     "text": [
      "{'_id': ObjectId('5feb639f3751063f552791dc'), 'Day& Date': 'Friday.', 'Name ofOrganisation': 'HDFCSecurities Limited', 'Type ofMeeting': 'One-on-one Call'}\n",
      "{'_id': ObjectId('5feb639f3751063f552791dd'), 'Day& Date': 'April 06, 2018', 'Name ofOrganisation': None, 'Type ofMeeting': None}\n"
     ]
    }
   ],
   "source": [
    "pdf_table_reader('./Rec_Task/Rec_Task/a6b29367-f3b7-4fb1-a2d0-077477eac1d9.pdf', db.second)\n",
    "collection = db.second\n",
    "cursor = collection.find() \n",
    "for record in cursor:\n",
    "    print(record)"
   ]
  },
  {
   "cell_type": "code",
   "execution_count": 85,
   "metadata": {},
   "outputs": [
    {
     "name": "stderr",
     "output_type": "stream",
     "text": [
      "PdfReadWarning: Invalid stream (index 16) within object 41 0: Stream has ended unexpectedly [pdf.py:1573]\n"
     ]
    },
    {
     "name": "stdout",
     "output_type": "stream",
     "text": [
      "{'_id': ObjectId('5feb64073751063f55279200'), '0': 'Date', '1': 'Name of the analyst/investor', '2': 'Type', '3': 'Location'}\n",
      "{'_id': ObjectId('5feb64073751063f55279201'), '0': 'April 4, 2018  Motilal Oswal Asset Management', '1': 'Company Limited', '2': 'One-on-One \\nmeeting', '3': 'Mumbai'}\n",
      "{'_id': ObjectId('5feb64073751063f55279202'), '0': '', '1': 'Credit Suisse \\nI', '2': 'Voice call', '3': '- M'}\n",
      "{'_id': ObjectId('5feb64073751063f55279203'), '0': '', '1': 'April 5, 2018  Maybank Eng Securities India Private \\nLimited', '2': 'One-on-One \\nmeeting', '3': 'umbai'}\n"
     ]
    }
   ],
   "source": [
    "pdf_table_reader('./Rec_Task/Rec_Task/d9f8e6d9-660b-4505-86f9-952e45ca6da0.pdf', db.third)\n",
    "collection = db.third\n",
    "cursor = collection.find() \n",
    "for record in cursor:\n",
    "    print(record)"
   ]
  },
  {
   "cell_type": "code",
   "execution_count": 86,
   "metadata": {},
   "outputs": [
    {
     "name": "stdout",
     "output_type": "stream",
     "text": [
      "{'_id': ObjectId('5feb64093751063f55279204'), 'STATUTORY REPORTS': '(ii)  Recommending the amount of expenditure', 'Unnamed: 0': '7.1 Major Terms of Reference'}\n",
      "{'_id': ObjectId('5feb64093751063f55279205'), 'STATUTORY REPORTS': 'to be incurred on the activities referred to in', 'Unnamed: 0': '(i)  To assist the Board in formulating the Risk'}\n",
      "{'_id': ObjectId('5feb64093751063f55279206'), 'STATUTORY REPORTS': 'CSR policy.', 'Unnamed: 0': 'Management Plan and practices.'}\n",
      "{'_id': ObjectId('5feb64093751063f55279207'), 'STATUTORY REPORTS': '(iii) Monitoring the CSR Policy of the Company', 'Unnamed: 0': '(ii) To monitor and review risk management plan'}\n",
      "{'_id': ObjectId('5feb64093751063f55279208'), 'STATUTORY REPORTS': 'from time to time.', 'Unnamed: 0': 'and practices of the Company as approved'}\n",
      "{'_id': ObjectId('5feb64093751063f55279209'), 'STATUTORY REPORTS': None, 'Unnamed: 0': 'by the Board.'}\n",
      "{'_id': ObjectId('5feb64093751063f5527920a'), 'STATUTORY REPORTS': '6.2 Meetings and Attendance', 'Unnamed: 0': None}\n",
      "{'_id': ObjectId('5feb64093751063f5527920b'), 'STATUTORY REPORTS': None, 'Unnamed: 0': '7.2 Members of the Committee'}\n",
      "{'_id': ObjectId('5feb64093751063f5527920c'), 'STATUTORY REPORTS': 'T wo Meetings of the Corporate Social', 'Unnamed: 0': None}\n",
      "{'_id': ObjectId('5feb64093751063f5527920d'), 'STATUTORY REPORTS': 'Responsibility Committee of the Company were', 'Unnamed: 0': None}\n",
      "{'_id': ObjectId('5feb64093751063f5527920e'), 'STATUTORY REPORTS': 'held during the Financial Year 2016-17 on May', 'Unnamed: 0': 'Sl. Name Chairman/'}\n",
      "{'_id': ObjectId('5feb64093751063f5527920f'), 'STATUTORY REPORTS': '5, 2016 and October 28, 2016. The names of the', 'Unnamed: 0': 'No. Member'}\n",
      "{'_id': ObjectId('5feb64093751063f55279210'), 'STATUTORY REPORTS': 'members, chairperson and attendance details are', 'Unnamed: 0': '1. Mr Siddhartha Lal (Managing Director &  Chairman'}\n",
      "{'_id': ObjectId('5feb64093751063f55279211'), 'STATUTORY REPORTS': 'as under:', 'Unnamed: 0': 'Chief Executive Officer)'}\n",
      "{'_id': ObjectId('5feb64093751063f55279212'), 'STATUTORY REPORTS': None, 'Unnamed: 0': '2. Mr S. Sandilya (Chairman and Non-Executive Member'}\n",
      "{'_id': ObjectId('5feb64093751063f55279213'), 'STATUTORY REPORTS': None, 'Unnamed: 0': 'Independent Director)'}\n",
      "{'_id': ObjectId('5feb64093751063f55279214'), 'STATUTORY REPORTS': 'Sl. Name Chairman/ No. of No. of', 'Unnamed: 0': '3. Mr Lalit Malik (Chief Financial Officer) Member'}\n",
      "{'_id': ObjectId('5feb64093751063f55279215'), 'STATUTORY REPORTS': 'No. Member meetings meetings', 'Unnamed: 0': None}\n",
      "{'_id': ObjectId('5feb64093751063f55279216'), 'STATUTORY REPORTS': 'held attended', 'Unnamed: 0': '8. SHARES COMMITTEE'}\n",
      "{'_id': ObjectId('5feb64093751063f55279217'), 'STATUTORY REPORTS': '1. Mr S. Sandilya Chairman 2 2', 'Unnamed: 0': 'The Shares Committee of the Company consists of'}\n",
      "{'_id': ObjectId('5feb64093751063f55279218'), 'STATUTORY REPORTS': '2. Mr Siddhartha Lal Member 2 2', 'Unnamed: 0': 'three members i.e. Mr Siddhartha Lal - Managing'}\n",
      "{'_id': ObjectId('5feb64093751063f55279219'), 'STATUTORY REPORTS': None, 'Unnamed: 0': 'Director & Chief Executive Officer, Mr Lalit Malik - Chief'}\n",
      "{'_id': ObjectId('5feb64093751063f5527921a'), 'STATUTORY REPORTS': '3. Mr Prateek Jalan Member 2 2', 'Unnamed: 0': None}\n",
      "{'_id': ObjectId('5feb64093751063f5527921b'), 'STATUTORY REPORTS': None, 'Unnamed: 0': 'Financial Officer and Mr Manhar Kapoor - General'}\n",
      "{'_id': ObjectId('5feb64093751063f5527921c'), 'STATUTORY REPORTS': 'M r Manhar Kapoor, General Counsel & Company', 'Unnamed: 0': 'Counsel & Company Secretary to look after and'}\n",
      "{'_id': ObjectId('5feb64093751063f5527921d'), 'STATUTORY REPORTS': 'Secretary acts as the Secretary to the Corporate', 'Unnamed: 0': 'approve transfer/transmission of equity shares,'}\n",
      "{'_id': ObjectId('5feb64093751063f5527921e'), 'STATUTORY REPORTS': 'Social Responsibility Committee.', 'Unnamed: 0': 'dematerialisation, issue of duplicate certificates, etc.'}\n",
      "{'_id': ObjectId('5feb64093751063f5527921f'), 'STATUTORY REPORTS': None, 'Unnamed: 0': 'All valid requests for transfer & transmission of shares in'}\n",
      "{'_id': ObjectId('5feb64093751063f55279220'), 'STATUTORY REPORTS': '7. RISk MANAGEMENT COMMITTEE', 'Unnamed: 0': 'physical form, duplicate issue of share certificate were'}\n",
      "{'_id': ObjectId('5feb64093751063f55279221'), 'STATUTORY REPORTS': 'In terms of Regulation 21 of the SEBI (LODR)', 'Unnamed: 0': 'processed in time.'}\n"
     ]
    }
   ],
   "source": [
    "pdf_table_reader('./Rec_Task/Rec_Task/EICHERMOT.pdf', db.fourth)\n",
    "collection = db.fourth\n",
    "cursor = collection.find() \n",
    "for record in cursor:\n",
    "    print(record)"
   ]
  },
  {
   "cell_type": "code",
   "execution_count": null,
   "metadata": {},
   "outputs": [],
   "source": []
  }
 ],
 "metadata": {
  "kernelspec": {
   "display_name": "Python 3",
   "language": "python",
   "name": "python3"
  },
  "language_info": {
   "codemirror_mode": {
    "name": "ipython",
    "version": 3
   },
   "file_extension": ".py",
   "mimetype": "text/x-python",
   "name": "python",
   "nbconvert_exporter": "python",
   "pygments_lexer": "ipython3",
   "version": "3.6.5"
  }
 },
 "nbformat": 4,
 "nbformat_minor": 4
}
